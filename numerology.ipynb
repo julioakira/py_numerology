{
 "cells": [
  {
   "cell_type": "code",
   "execution_count": 124,
   "id": "5a9d9a56-139e-45ee-a375-576904e30d5f",
   "metadata": {},
   "outputs": [],
   "source": [
    "import string\n",
    "from typing import Dict\n",
    "from dataclasses import dataclass"
   ]
  },
  {
   "cell_type": "code",
   "execution_count": 125,
   "id": "4139067a-3689-4f7a-9024-88c5b9d22fd8",
   "metadata": {},
   "outputs": [],
   "source": [
    "@dataclass(eq=True, frozen=True)\n",
    "class Numerologic_Table:\n",
    "    relations: Dict[str, int]\n",
    "\n",
    "    @classmethod\n",
    "    def create(cls):\n",
    "        tbl = {}\n",
    "        ctr = 1\n",
    "        for c in string.ascii_lowercase:\n",
    "            tbl[c] = ctr\n",
    "            ctr += 1\n",
    "            if(ctr > 9):\n",
    "                ctr = 1;\n",
    "        return cls(tbl)"
   ]
  },
  {
   "cell_type": "code",
   "execution_count": 126,
   "id": "c3696c18-0105-4265-be3c-3c6065215b05",
   "metadata": {},
   "outputs": [
    {
     "data": {
      "text/plain": [
       "Numerologic_Table(relations={'a': 1, 'b': 2, 'c': 3, 'd': 4, 'e': 5, 'f': 6, 'g': 7, 'h': 8, 'i': 9, 'j': 1, 'k': 2, 'l': 3, 'm': 4, 'n': 5, 'o': 6, 'p': 7, 'q': 8, 'r': 9, 's': 1, 't': 2, 'u': 3, 'v': 4, 'w': 5, 'x': 6, 'y': 7, 'z': 8})"
      ]
     },
     "execution_count": 126,
     "metadata": {},
     "output_type": "execute_result"
    }
   ],
   "source": [
    "Numerologic_Table.create()"
   ]
  },
  {
   "cell_type": "code",
   "execution_count": 153,
   "id": "cc2cd757-d99a-4867-85b7-3477f794462c",
   "metadata": {},
   "outputs": [],
   "source": [
    "# fix infinite loop\n",
    "def calculate(target: str)-> int:\n",
    "    tg = target.lower()\n",
    "    tbl = Numerologic_Table.create().relations\n",
    "    count = 0\n",
    "    result = 0\n",
    "    for c in tg:\n",
    "        if c in tbl:\n",
    "            count += tbl[c]\n",
    "    while (count > 9):\n",
    "        for n in str(count):\n",
    "            result += int(n)\n",
    "            count -= int(result)\n",
    "            if (count < 0):\n",
    "                count = -count\n",
    "    return count"
   ]
  },
  {
   "cell_type": "code",
   "execution_count": 151,
   "id": "6a7f70bb-48d5-4470-bd1c-ac97d4879915",
   "metadata": {},
   "outputs": [
    {
     "data": {
      "text/plain": [
       "8"
      ]
     },
     "execution_count": 151,
     "metadata": {},
     "output_type": "execute_result"
    }
   ],
   "source": [
    "calculate('John Smith')"
   ]
  },
  {
   "cell_type": "code",
   "execution_count": 152,
   "id": "d0533982-af98-4e4c-84aa-6994e23661a0",
   "metadata": {},
   "outputs": [
    {
     "ename": "KeyboardInterrupt",
     "evalue": "",
     "output_type": "error",
     "traceback": [
      "\u001b[0;31m---------------------------------------------------------------------------\u001b[0m",
      "\u001b[0;31mKeyboardInterrupt\u001b[0m                         Traceback (most recent call last)",
      "Cell \u001b[0;32mIn[152], line 1\u001b[0m\n\u001b[0;32m----> 1\u001b[0m \u001b[43mcalculate\u001b[49m\u001b[43m(\u001b[49m\u001b[38;5;124;43m'\u001b[39;49m\u001b[38;5;124;43mWitches Delight\u001b[39;49m\u001b[38;5;124;43m'\u001b[39;49m\u001b[43m)\u001b[49m\n",
      "Cell \u001b[0;32mIn[150], line 12\u001b[0m, in \u001b[0;36mcalculate\u001b[0;34m(target)\u001b[0m\n\u001b[1;32m     10\u001b[0m \u001b[38;5;28;01mfor\u001b[39;00m n \u001b[38;5;129;01min\u001b[39;00m \u001b[38;5;28mstr\u001b[39m(count):\n\u001b[1;32m     11\u001b[0m     result \u001b[38;5;241m+\u001b[39m\u001b[38;5;241m=\u001b[39m \u001b[38;5;28mint\u001b[39m(n)\n\u001b[0;32m---> 12\u001b[0m     count \u001b[38;5;241m-\u001b[39m\u001b[38;5;241m=\u001b[39m \u001b[38;5;28;43mint\u001b[39;49m\u001b[43m(\u001b[49m\u001b[43mresult\u001b[49m\u001b[43m)\u001b[49m\n\u001b[1;32m     13\u001b[0m     \u001b[38;5;28;01mif\u001b[39;00m (count \u001b[38;5;241m<\u001b[39m \u001b[38;5;241m0\u001b[39m):\n\u001b[1;32m     14\u001b[0m         count \u001b[38;5;241m=\u001b[39m \u001b[38;5;241m-\u001b[39mcount\n",
      "\u001b[0;31mKeyboardInterrupt\u001b[0m: "
     ]
    }
   ],
   "source": [
    "calculate('Witches Delight')"
   ]
  },
  {
   "cell_type": "code",
   "execution_count": 149,
   "id": "2cec5aac-c025-41b0-b4e7-5776c7381dd5",
   "metadata": {},
   "outputs": [
    {
     "data": {
      "text/plain": [
       "-22"
      ]
     },
     "execution_count": 149,
     "metadata": {},
     "output_type": "execute_result"
    }
   ],
   "source": [
    "calculate('Aline Pietra')"
   ]
  },
  {
   "cell_type": "code",
   "execution_count": null,
   "id": "f6182c50-597c-402f-b3c9-6ff50aad5dda",
   "metadata": {},
   "outputs": [],
   "source": []
  },
  {
   "cell_type": "code",
   "execution_count": null,
   "id": "3ecaff5f-0154-4b1b-aa45-db83350a9def",
   "metadata": {},
   "outputs": [],
   "source": []
  },
  {
   "cell_type": "code",
   "execution_count": null,
   "id": "bfe4ce01-2ff1-4212-82a4-ca2f5681c850",
   "metadata": {},
   "outputs": [],
   "source": []
  },
  {
   "cell_type": "code",
   "execution_count": null,
   "id": "1f385f72-2be1-440e-a0a5-997fbe317ad3",
   "metadata": {},
   "outputs": [],
   "source": []
  },
  {
   "cell_type": "code",
   "execution_count": null,
   "id": "e974444b-6a85-4f79-805f-858cbaab8439",
   "metadata": {},
   "outputs": [],
   "source": []
  },
  {
   "cell_type": "code",
   "execution_count": null,
   "id": "12acc0ed-ed35-4790-8d3f-9adb384e0eff",
   "metadata": {},
   "outputs": [],
   "source": []
  },
  {
   "cell_type": "code",
   "execution_count": null,
   "id": "281b9e3e-87d9-4faf-9c4c-a2088afdbb2e",
   "metadata": {},
   "outputs": [],
   "source": []
  }
 ],
 "metadata": {
  "kernelspec": {
   "display_name": "Python 3 (ipykernel)",
   "language": "python",
   "name": "python3"
  },
  "language_info": {
   "codemirror_mode": {
    "name": "ipython",
    "version": 3
   },
   "file_extension": ".py",
   "mimetype": "text/x-python",
   "name": "python",
   "nbconvert_exporter": "python",
   "pygments_lexer": "ipython3",
   "version": "3.11.5"
  }
 },
 "nbformat": 4,
 "nbformat_minor": 5
}
